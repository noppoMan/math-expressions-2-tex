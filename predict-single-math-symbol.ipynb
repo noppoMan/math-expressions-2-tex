{
 "cells": [
  {
   "cell_type": "code",
   "execution_count": 47,
   "metadata": {},
   "outputs": [],
   "source": [
    "import numpy as np\n",
    "import pandas as pd\n",
    "from PIL import Image as img\n",
    "import glob\n",
    "from tqdm import tqdm\n",
    "import os\n",
    "from pathlib import Path\n",
    "\n",
    "import keras\n",
    "from keras.preprocessing.image import array_to_img, img_to_array, load_img\n",
    "from keras.datasets import mnist\n",
    "from keras.models import Sequential\n",
    "from keras.layers import Dense, Dropout, Flatten\n",
    "from keras.layers import Conv2D, MaxPooling2D\n",
    "from keras import optimizers"
   ]
  },
  {
   "cell_type": "code",
   "execution_count": 49,
   "metadata": {},
   "outputs": [],
   "source": [
    "home = str(Path.home())\n",
    "datasets_dir = f\"{home}/Downloads/handwritten-math-symbols\""
   ]
  },
  {
   "cell_type": "code",
   "execution_count": 6,
   "metadata": {},
   "outputs": [
    {
     "data": {
      "image/png": "[encoded data removed]",
      "text/plain": [
       "<PIL.JpegImagePlugin.JpegImageFile image mode=L size=45x45 at 0x10A1B3F98>"
      ]
     },
     "execution_count": 6,
     "metadata": {},
     "output_type": "execute_result"
    }
   ],
   "source": [
    "img.open(f\"{datasets_dir}/exp62494.jpg\")"
   ]
  },
  {
   "cell_type": "code",
   "execution_count": 7,
   "metadata": {},
   "outputs": [],
   "source": [
    "train_images = glob.glob(f\"{datasets_dir}/*.jpg\")"
   ]
  },
  {
   "cell_type": "code",
   "execution_count": 14,
   "metadata": {},
   "outputs": [
    {
     "name": "stdout",
     "output_type": "stream",
     "text": [
      "112857\n"
     ]
    }
   ],
   "source": [
    "def get_symbol_from_path(path: str) -> str:\n",
    "    f = os.path.basename(path)\n",
    "    \n",
    "    if f.startswith(\"_\"):\n",
    "        return \"_\"\n",
    "    \n",
    "    # TODO\n",
    "    # should predict expXXXX.jpg and use it as train or test data when the predicted score is greater than 90%\n",
    "    if f.startswith(\"exp\"):\n",
    "        return None\n",
    "    \n",
    "    components = f.split(\"_\")\n",
    "    maybe_symbol = components[0]\n",
    "    \n",
    "    if len(components) > 1:\n",
    "        if maybe_symbol.isalpha() and len(maybe_symbol) == 1:\n",
    "            if maybe_symbol.islower():\n",
    "                return f\"lower_{maybe_symbol}\"\n",
    "            else:\n",
    "                return f\"upper_{maybe_symbol.lower()}\"\n",
    "        \n",
    "        return maybe_symbol\n",
    "\n",
    "    return None\n",
    "\n",
    "symbol_statistics = {}\n",
    "\n",
    "for i in train_images:\n",
    "    symbol = get_symbol_from_path(i)\n",
    "    if symbol == None:\n",
    "        continue\n",
    "    \n",
    "    if symbol not in symbol_statistics:\n",
    "        symbol_statistics[symbol] = {\n",
    "            \"length\": 0,\n",
    "            \"paths\": [i]\n",
    "        }\n",
    "    else:\n",
    "        symbol_statistics[symbol][\"length\"] += 1\n",
    "        symbol_statistics[symbol][\"paths\"].append(i)\n",
    "\n",
    "        \n",
    "print(sum(map(lambda key: symbol_statistics[key][\"length\"], symbol_statistics)))"
   ]
  },
  {
   "cell_type": "code",
   "execution_count": 15,
   "metadata": {},
   "outputs": [
    {
     "name": "stdout",
     "output_type": "stream",
     "text": [
      "num_classes: 100\n"
     ]
    },
    {
     "data": {
      "text/plain": [
       "{'-': 11250,\n",
       " '1': 8646,\n",
       " '2': 8572,\n",
       " '+': 8207,\n",
       " 'lower_x': 7371,\n",
       " '(': 4648,\n",
       " ')': 4642,\n",
       " '=': 4234,\n",
       " '3': 3508,\n",
       " 'lower_a': 2974,\n",
       " 'lower_n': 2756,\n",
       " 'sqrt': 2466,\n",
       " 'lower_y': 2459,\n",
       " '4': 2334,\n",
       " '0': 2224,\n",
       " 'lower_b': 1965,\n",
       " 'lower_z': 1700,\n",
       " 'lower_i': 1331,\n",
       " 'lower_d': 1308,\n",
       " 'sin': 1167,\n",
       " '5': 1142,\n",
       " 'lower_c': 1129,\n",
       " '9': 996,\n",
       " '6': 989,\n",
       " '8': 964,\n",
       " '7': 922,\n",
       " 'times': 907,\n",
       " 'cos': 802,\n",
       " 'lower_k': 784,\n",
       " 'lower_t': 759,\n",
       " 'theta': 751,\n",
       " 'int': 747,\n",
       " 'tan': 730,\n",
       " 'alpha': 718,\n",
       " 'sum': 693,\n",
       " 'lower_f': 685,\n",
       " 'lower_e': 666,\n",
       " ',': 633,\n",
       " 'pi': 623,\n",
       " 'log': 594,\n",
       " 'beta': 574,\n",
       " 'lower_p': 569,\n",
       " 'lower_m': 569,\n",
       " 'lower_r': 488,\n",
       " 'rightarrow': 472,\n",
       " 'lim': 466,\n",
       " 'infty': 466,\n",
       " 'ascii': 447,\n",
       " 'upper_c': 421,\n",
       " 'lower_j': 411,\n",
       " 'lower_g': 354,\n",
       " 'upper_b': 352,\n",
       " '!': 349,\n",
       " 'lower_u': 320,\n",
       " 'upper_x': 316,\n",
       " 'upper_a': 314,\n",
       " 'lower_q': 308,\n",
       " 'lower_v': 284,\n",
       " 'upper_f': 275,\n",
       " 'lower_h': 268,\n",
       " '[': 259,\n",
       " ']': 259,\n",
       " 'leq': 242,\n",
       " 'lower_s': 237,\n",
       " 'div': 216,\n",
       " 'pm': 204,\n",
       " '_': 198,\n",
       " 'upper_r': 186,\n",
       " 'geq': 172,\n",
       " 'ldots': 151,\n",
       " 'upper_e': 143,\n",
       " 'neq': 139,\n",
       " 'lower_w': 138,\n",
       " 'upper_l': 135,\n",
       " 'upper_n': 134,\n",
       " '{': 128,\n",
       " '}': 128,\n",
       " 'lt': 123,\n",
       " 'upper_y': 120,\n",
       " 'lower_l': 118,\n",
       " 'upper_s': 116,\n",
       " 'lower_o': 111,\n",
       " 'upper_p': 105,\n",
       " 'upper_v': 105,\n",
       " 'gamma': 101,\n",
       " 'upper_h': 99,\n",
       " 'upper_m': 98,\n",
       " 'upper_t': 96,\n",
       " 'phi': 88,\n",
       " 'upper_g': 87,\n",
       " 'prime': 81,\n",
       " 'upper_i': 68,\n",
       " 'gt': 64,\n",
       " 'sigma': 51,\n",
       " 'mu': 45,\n",
       " 'Delta': 34,\n",
       " 'lambda': 26,\n",
       " 'in': 16,\n",
       " 'forall': 12,\n",
       " 'exists': 5}"
      ]
     },
     "execution_count": 15,
     "metadata": {},
     "output_type": "execute_result"
    }
   ],
   "source": [
    "import matplotlib.pyplot as plt\n",
    "\n",
    "sym_dict = {}\n",
    "\n",
    "for key in symbol_statistics:\n",
    "    sym_dict[key] = symbol_statistics[key][\"length\"]\n",
    "    \n",
    "sorted_sym_dict = {k: v for k, v in sorted(sym_dict.items(), key=lambda item: item[1], reverse=True)}\n",
    "\n",
    "print(f\"num_classes: {len(sorted_sym_dict)}\")\n",
    "\n",
    "sorted_sym_dict"
   ]
  },
  {
   "cell_type": "code",
   "execution_count": 40,
   "metadata": {
    "scrolled": false
   },
   "outputs": [],
   "source": [
    "from shutil import copyfile\n",
    "import errno    \n",
    "import os\n",
    "\n",
    "def mkdir_p(path):\n",
    "    try:\n",
    "        os.makedirs(path)\n",
    "    except OSError as exc:\n",
    "        if exc.errno == errno.EEXIST and os.path.isdir(path):\n",
    "            pass\n",
    "        else:\n",
    "            raise\n",
    "\n",
    "for symbol in symbol_statistics:\n",
    "    to = int(symbol_statistics[symbol][\"length\"]*0.1)\n",
    "    if to == 0:\n",
    "        to = 1\n",
    "    \n",
    "    valid = symbol_statistics[symbol][\"paths\"][0:to]\n",
    "    assert len(valid) == to    \n",
    "    for i in valid:\n",
    "        f = os.path.basename(i)\n",
    "        dist = f\"./datasets/test/{symbol}\"\n",
    "        mkdir_p(dist)\n",
    "        copyfile(i, f\"{dist}/{f}\")\n",
    "    \n",
    "    train = symbol_statistics[symbol][\"paths\"][to:]    \n",
    "    assert len(train) + len(valid) == len(symbol_statistics[symbol][\"paths\"])    \n",
    "    for i in train:\n",
    "        f = os.path.basename(i)\n",
    "        dist = f\"./datasets/train/{symbol}\"\n",
    "        mkdir_p(dist)\n",
    "        copyfile(i, f\"{dist}/{f}\")"
   ]
  },
  {
   "cell_type": "code",
   "execution_count": 41,
   "metadata": {},
   "outputs": [
    {
     "name": "stdout",
     "output_type": "stream",
     "text": [
      "Found 101721 images belonging to 100 classes.\n",
      "Found 11237 images belonging to 100 classes.\n"
     ]
    }
   ],
   "source": [
    "from keras.preprocessing.image import ImageDataGenerator\n",
    "\n",
    "train_path = \"./datasets/train\"\n",
    "test_path = \"./datasets/test\"\n",
    "\n",
    "train_datagen = ImageDataGenerator(rescale=1./255)\n",
    "test_datagen = ImageDataGenerator(rescale=1./255)\n",
    "\n",
    "train_generator = train_datagen.flow_from_directory(\n",
    "    train_path,\n",
    "    target_size=(45, 45),\n",
    "    batch_size=20,\n",
    "    class_mode='categorical'\n",
    ")\n",
    "\n",
    "test_generator = test_datagen.flow_from_directory(\n",
    "    test_path,\n",
    "    target_size=(45, 45),\n",
    "    batch_size=20,\n",
    "    class_mode='categorical'\n",
    ")"
   ]
  },
  {
   "cell_type": "code",
   "execution_count": 34,
   "metadata": {},
   "outputs": [],
   "source": [
    "def gen_model():\n",
    "    num_classes = 100    \n",
    "    \n",
    "    model = Sequential()\n",
    "    model = Sequential()\n",
    "    model.add(Conv2D(32, kernel_size=(3, 3),\n",
    "                     activation='relu',\n",
    "                     input_shape=(45, 45, 3)))\n",
    "    model.add(Conv2D(64, (3, 3), activation='relu'))\n",
    "    model.add(MaxPooling2D(pool_size=(2, 2)))\n",
    "    model.add(Dropout(0.25))\n",
    "    model.add(Flatten())\n",
    "    model.add(Dense(128, activation='relu'))\n",
    "    model.add(Dropout(0.5))\n",
    "    model.add(Dense(num_classes, activation='softmax'))\n",
    "\n",
    "    model.compile(\n",
    "        loss='categorical_crossentropy',\n",
    "        optimizer=optimizers.RMSprop(lr=1e-4),\n",
    "        metrics=['acc']\n",
    "    )\n",
    "    \n",
    "    return model"
   ]
  },
  {
   "cell_type": "code",
   "execution_count": 35,
   "metadata": {},
   "outputs": [
    {
     "name": "stdout",
     "output_type": "stream",
     "text": [
      "_________________________________________________________________\n",
      "Layer (type)                 Output Shape              Param #   \n",
      "=================================================================\n",
      "conv2d_23 (Conv2D)           (None, 43, 43, 32)        896       \n",
      "_________________________________________________________________\n",
      "conv2d_24 (Conv2D)           (None, 41, 41, 64)        18496     \n",
      "_________________________________________________________________\n",
      "max_pooling2d_22 (MaxPooling (None, 20, 20, 64)        0         \n",
      "_________________________________________________________________\n",
      "dropout_18 (Dropout)         (None, 20, 20, 64)        0         \n",
      "_________________________________________________________________\n",
      "flatten_2 (Flatten)          (None, 25600)             0         \n",
      "_________________________________________________________________\n",
      "dense_3 (Dense)              (None, 128)               3276928   \n",
      "_________________________________________________________________\n",
      "dropout_19 (Dropout)         (None, 128)               0         \n",
      "_________________________________________________________________\n",
      "dense_4 (Dense)              (None, 100)               12900     \n",
      "=================================================================\n",
      "Total params: 3,309,220\n",
      "Trainable params: 3,309,220\n",
      "Non-trainable params: 0\n",
      "_________________________________________________________________\n"
     ]
    }
   ],
   "source": [
    "model = gen_model()\n",
    "model.summary()"
   ]
  },
  {
   "cell_type": "code",
   "execution_count": 44,
   "metadata": {},
   "outputs": [
    {
     "name": "stdout",
     "output_type": "stream",
     "text": [
      "Epoch 1/30\n",
      "300/300 [==============================] - 14s 47ms/step - loss: 1.4706 - acc: 0.6755 - val_loss: 1.2225 - val_acc: 0.7283\n",
      "Epoch 2/30\n",
      "300/300 [==============================] - 14s 47ms/step - loss: 1.5030 - acc: 0.6695 - val_loss: 1.2044 - val_acc: 0.7450\n",
      "Epoch 3/30\n",
      "300/300 [==============================] - 14s 47ms/step - loss: 1.4774 - acc: 0.6738 - val_loss: 1.1332 - val_acc: 0.7433\n",
      "Epoch 4/30\n",
      "300/300 [==============================] - 14s 47ms/step - loss: 1.4355 - acc: 0.6803 - val_loss: 1.1502 - val_acc: 0.7367\n",
      "Epoch 5/30\n",
      "300/300 [==============================] - 14s 47ms/step - loss: 1.3697 - acc: 0.6925 - val_loss: 1.0400 - val_acc: 0.7650\n",
      "Epoch 6/30\n",
      "300/300 [==============================] - 14s 47ms/step - loss: 1.3518 - acc: 0.7005 - val_loss: 1.1676 - val_acc: 0.7217\n",
      "Epoch 7/30\n",
      "300/300 [==============================] - 14s 47ms/step - loss: 1.3549 - acc: 0.6980 - val_loss: 1.0433 - val_acc: 0.7817\n",
      "Epoch 8/30\n",
      "300/300 [==============================] - 14s 48ms/step - loss: 1.2781 - acc: 0.7142 - val_loss: 1.1226 - val_acc: 0.7487\n",
      "Epoch 9/30\n",
      "300/300 [==============================] - 14s 48ms/step - loss: 1.2526 - acc: 0.7177 - val_loss: 1.0475 - val_acc: 0.7633\n",
      "Epoch 10/30\n",
      "300/300 [==============================] - 14s 48ms/step - loss: 1.2925 - acc: 0.7165 - val_loss: 0.9098 - val_acc: 0.7917\n",
      "Epoch 11/30\n",
      "300/300 [==============================] - 14s 48ms/step - loss: 1.2981 - acc: 0.7210 - val_loss: 1.0379 - val_acc: 0.7733\n",
      "Epoch 12/30\n",
      "300/300 [==============================] - 14s 48ms/step - loss: 1.3135 - acc: 0.7102 - val_loss: 0.9283 - val_acc: 0.7833\n",
      "Epoch 13/30\n",
      "300/300 [==============================] - 14s 47ms/step - loss: 1.2410 - acc: 0.7270 - val_loss: 1.0242 - val_acc: 0.7667\n",
      "Epoch 14/30\n",
      "300/300 [==============================] - 14s 46ms/step - loss: 1.2256 - acc: 0.7225 - val_loss: 1.0262 - val_acc: 0.7533\n",
      "Epoch 15/30\n",
      "300/300 [==============================] - 14s 46ms/step - loss: 1.2550 - acc: 0.7195 - val_loss: 0.9765 - val_acc: 0.7750\n",
      "Epoch 16/30\n",
      "300/300 [==============================] - 14s 46ms/step - loss: 1.2372 - acc: 0.7210 - val_loss: 1.0300 - val_acc: 0.7883\n",
      "Epoch 17/30\n",
      "300/300 [==============================] - 14s 47ms/step - loss: 1.1927 - acc: 0.7343 - val_loss: 0.9215 - val_acc: 0.8067\n",
      "Epoch 18/30\n",
      "300/300 [==============================] - 14s 47ms/step - loss: 1.2748 - acc: 0.7140 - val_loss: 0.9521 - val_acc: 0.7800\n",
      "Epoch 19/30\n",
      "300/300 [==============================] - 14s 47ms/step - loss: 1.1839 - acc: 0.7298 - val_loss: 0.9902 - val_acc: 0.7900\n",
      "Epoch 20/30\n",
      "300/300 [==============================] - 14s 47ms/step - loss: 1.1978 - acc: 0.7375 - val_loss: 0.8216 - val_acc: 0.8050\n",
      "Epoch 21/30\n",
      "300/300 [==============================] - 14s 48ms/step - loss: 1.2429 - acc: 0.7268 - val_loss: 0.9179 - val_acc: 0.8067\n",
      "Epoch 22/30\n",
      "300/300 [==============================] - 14s 48ms/step - loss: 1.2131 - acc: 0.7363 - val_loss: 1.0508 - val_acc: 0.7667\n",
      "Epoch 23/30\n",
      "300/300 [==============================] - 14s 47ms/step - loss: 1.2168 - acc: 0.7268 - val_loss: 0.8454 - val_acc: 0.8050\n",
      "Epoch 24/30\n",
      "300/300 [==============================] - 14s 47ms/step - loss: 1.1984 - acc: 0.7320 - val_loss: 0.8469 - val_acc: 0.8000\n",
      "Epoch 25/30\n",
      "300/300 [==============================] - 14s 48ms/step - loss: 1.1891 - acc: 0.7332 - val_loss: 0.9259 - val_acc: 0.7883\n",
      "Epoch 26/30\n",
      "300/300 [==============================] - 15s 48ms/step - loss: 1.2206 - acc: 0.7327 - val_loss: 0.8862 - val_acc: 0.7973\n",
      "Epoch 27/30\n",
      "300/300 [==============================] - 14s 48ms/step - loss: 1.1201 - acc: 0.7448 - val_loss: 0.8613 - val_acc: 0.8100\n",
      "Epoch 28/30\n",
      "300/300 [==============================] - 15s 50ms/step - loss: 1.1593 - acc: 0.7528 - val_loss: 0.9907 - val_acc: 0.7933\n",
      "Epoch 29/30\n",
      "300/300 [==============================] - 15s 49ms/step - loss: 1.1667 - acc: 0.7405 - val_loss: 0.8345 - val_acc: 0.7983\n",
      "Epoch 30/30\n",
      "300/300 [==============================] - 15s 51ms/step - loss: 1.1704 - acc: 0.7380 - val_loss: 0.9931 - val_acc: 0.7767\n"
     ]
    }
   ],
   "source": [
    "history = model.fit_generator(train_generator,\n",
    "                              steps_per_epoch=300,\n",
    "                              epochs=30,\n",
    "                              validation_data=test_generator,\n",
    "                              validation_steps=30\n",
    ")"
   ]
  },
  {
   "cell_type": "code",
   "execution_count": 45,
   "metadata": {},
   "outputs": [
    {
     "data": {
      "image/png": "[encoded data removed]",
      "text/plain": [
       "<Figure size 432x288 with 1 Axes>"
      ]
     },
     "metadata": {
      "needs_background": "light"
     },
     "output_type": "display_data"
    },
    {
     "data": {
      "image/png": "[encoded data removed]",
      "text/plain": [
       "<Figure size 432x288 with 1 Axes>"
      ]
     },
     "metadata": {
      "needs_background": "light"
     },
     "output_type": "display_data"
    }
   ],
   "source": [
    "import matplotlib.pyplot as plt\n",
    "\n",
    "acc = history.history['acc']\n",
    "val_acc = history.history['val_acc']\n",
    "loss = history.history['loss']\n",
    "val_loss = history.history['val_loss']\n",
    "\n",
    "epochs = range(len(acc))\n",
    "\n",
    "plt.plot(epochs, acc, 'bo', label='Training acc')\n",
    "plt.plot(epochs, val_acc, 'b', label='Validation acc')\n",
    "plt.title('Training and validation accuracy')\n",
    "plt.legend()\n",
    "\n",
    "plt.figure()\n",
    "\n",
    "plt.plot(epochs, loss, 'bo', label='Training loss')\n",
    "plt.plot(epochs, val_loss, 'b', label='Validation loss')\n",
    "plt.title('Training and validation loss')\n",
    "plt.legend()\n",
    "\n",
    "plt.show()"
   ]
  }
 ],
 "metadata": {
  "kernelspec": {
   "display_name": "Python 3",
   "language": "python",
   "name": "python3"
  },
  "language_info": {
   "codemirror_mode": {
    "name": "ipython",
    "version": 3
   },
   "file_extension": ".py",
   "mimetype": "text/x-python",
   "name": "python",
   "nbconvert_exporter": "python",
   "pygments_lexer": "ipython3",
   "version": "3.6.0"
  }
 },
 "nbformat": 4,
 "nbformat_minor": 2
}
